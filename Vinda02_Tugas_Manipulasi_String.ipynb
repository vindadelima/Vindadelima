{
  "nbformat": 4,
  "nbformat_minor": 0,
  "metadata": {
    "colab": {
      "provenance": [],
      "include_colab_link": true
    },
    "kernelspec": {
      "name": "python3",
      "display_name": "Python 3"
    },
    "language_info": {
      "name": "python"
    }
  },
  "cells": [
    {
      "cell_type": "markdown",
      "metadata": {
        "id": "view-in-github",
        "colab_type": "text"
      },
      "source": [
        "<a href=\"https://colab.research.google.com/github/vindadelima/Vindadelima/blob/main/Vinda02_Tugas_Manipulasi_String.ipynb\" target=\"_parent\"><img src=\"https://colab.research.google.com/assets/colab-badge.svg\" alt=\"Open In Colab\"/></a>"
      ]
    },
    {
      "cell_type": "markdown",
      "source": [
        "buatlah class Catatan dengan atribut\n",
        "1. nama (string)\n",
        "2. nomor_absen (intejer)\n",
        "3. catatan (string)\n",
        "\n",
        "buat fungsi untuk\n",
        "1. menggabungkan semua atribut diatas menjadi sebuah kalimat menggunakan pertambahan string\n",
        "2. menampilkan kalimat gabungan semua atribut\n",
        "3. mencari kata dalam sebuah kalimat menggunakan fungsi in\n",
        "4. menggandakan jumlah kalimat menggunakan tanda perkalian *\n",
        "5. menghitung jumlah huruf dalam kalimat menggunakan len\n",
        "6. mencari kata pertama dalam kalimat menggunakan startswith"
      ],
      "metadata": {
        "id": "AIkziXKoHrlK"
      }
    },
    {
      "cell_type": "code",
      "source": [
        "#desain class\n",
        "class Catatan:\n",
        "  def __init__(self, nama, noabsen, catatan):\n",
        "    self.nama = nama\n",
        "    self.noabsen = str(noabsen)\n",
        "    self.catatan = catatan\n",
        "\n",
        "  def gabung(self):\n",
        "    hasil = 'nama =' + ' ' + self.nama + ', ' + 'no absen = ' + ' ' + self.noabsen + ' ' + 'catatannya' + ' '+self.catatan\n",
        "    return hasil\n",
        "\n",
        "  def tampil(self):\n",
        "    print(self.gabung())\n",
        "\n",
        "  def cari(self):\n",
        "    print(self.nama in self.gabung())\n",
        "\n",
        "  def hitung(self):\n",
        "    print(len(self.gabung()))\n",
        "\n",
        "  def ganda(self):\n",
        "    print(self.nama * 2)\n",
        "\n",
        "  def pertama(self):\n",
        "    print(str(self.nama).startswith('t'))"
      ],
      "metadata": {
        "id": "_YQuLGp_IA93"
      },
      "execution_count": 1,
      "outputs": []
    },
    {
      "cell_type": "code",
      "source": [
        "#main program\n",
        "siswa = Catatan('lorenza', 12, 'dia adalah siswi yang sangat tekun')\n",
        "siswa.gabung()\n",
        "siswa.tampil()\n",
        "siswa.cari()\n",
        "siswa.hitung()\n",
        "siswa.ganda()\n",
        "siswa.pertama()"
      ],
      "metadata": {
        "id": "QdIPVcTJID9Q",
        "colab": {
          "base_uri": "https://localhost:8080/"
        },
        "outputId": "d8c4c09c-47cf-4d8e-99e3-bab72892e4bb"
      },
      "execution_count": 2,
      "outputs": [
        {
          "output_type": "stream",
          "name": "stdout",
          "text": [
            "nama = lorenza, no absen =  12 catatannya dia adalah siswi yang sangat tekun\n",
            "True\n",
            "76\n",
            "lorenzalorenza\n",
            "False\n"
          ]
        }
      ]
    }
  ]
}