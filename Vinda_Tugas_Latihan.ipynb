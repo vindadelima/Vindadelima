{
  "nbformat": 4,
  "nbformat_minor": 0,
  "metadata": {
    "colab": {
      "provenance": [],
      "include_colab_link": true
    },
    "kernelspec": {
      "name": "python3",
      "display_name": "Python 3"
    },
    "language_info": {
      "name": "python"
    }
  },
  "cells": [
    {
      "cell_type": "markdown",
      "metadata": {
        "id": "view-in-github",
        "colab_type": "text"
      },
      "source": [
        "<a href=\"https://colab.research.google.com/github/vindadelima/Vindadelima/blob/main/Vinda_Tugas_Latihan.ipynb\" target=\"_parent\"><img src=\"https://colab.research.google.com/assets/colab-badge.svg\" alt=\"Open In Colab\"/></a>"
      ]
    },
    {
      "cell_type": "markdown",
      "source": [
        "Sebuah start-up GoPay merupakan perusahaan vintage yang menjadi alat pembayaran aplikasi marketplace dan lainnya. Anda seorang programmer yang ditugaskan untuk membuat aplikasi GoPay yang memiliki sebuah class bernama AkunGopay, yang memiliki atribut no_hp, nama dan saldo, dimana semua atribut bersifat private, demi keamanan.\n",
        "\n",
        "\n",
        "Pengguna bisa mendaftar akun GoPay dengan no_hp dan nama saja, namun juga bisa mendaftar dengan no_hp, nama dan saldo. Jika mendaftar dengan no_hp dan nama saja maka saldo otomatis bernilai 0.\n",
        "\n",
        "\n",
        "Class AkunGopay harus menyediakan fungsi yang dapat diakses oleh Marketplace untuk melakukan transaksi, yaitu :\n",
        "\n",
        "1.   topUp(), yang digunakan untuk menambahkan saldo\n",
        "2.   bayarTransaksi(), yang mengurangi saldo ketika melakukan transaksi\n",
        "3.   getSaldo(), untuk mengetahui jumlah saldo\n",
        "\n",
        "\n",
        "\n",
        "Teman Anda adalah seorang programer yang bekerja di sebuah start-up terkemuka Tokopedia yang bekerjasama dengan start-up keuangan GoPay. Anda ditugaskan membuat apikasi yang memiliki class AkunToped, dan memiliki atribut nama dan nomer_hp.\n",
        "\n",
        "Class AkunToped harus menyediakan fungsi yang untuk melakukan transaksi, yaitu:\n",
        "\n",
        "1. transaksi(), yang digunakan untuk mengurangi saldo Gopay dengan paramater nominal transaksi.\n",
        "2. getSaldo(), untuk mengetahui jumlah saldo Gopay.\n",
        "\n"
      ],
      "metadata": {
        "id": "NOQKwrfHB4pv"
      }
    },
    {
      "cell_type": "code",
      "execution_count": 2,
      "metadata": {
        "id": "peDTMz-5kxlh"
      },
      "outputs": [],
      "source": [
        "#Desain Class\n",
        "class AkunGopay:\n",
        "  def __init__(self, no_hp, nama, saldo = 0):\n",
        "    self.__no_hp = no_hp\n",
        "    self.__nama = nama\n",
        "    self.__saldo = saldo\n",
        "\n",
        "  def topUp(self, jumlah):\n",
        "    self.__saldo += jumlah\n",
        "\n",
        "  def bayarTransaksi(self, jumlah):\n",
        "    if jumlah <= self.__saldo:\n",
        "      self.__saldo -= jumlah\n",
        "    else:\n",
        "      print(\"Saldo Tidak Mencukupi Untuk Melakukan Transaksi\")\n",
        "\n",
        "  def getsaldo(self):\n",
        "    return self.__saldo\n",
        "\n",
        "\n",
        "class AkunTokped:\n",
        "  def __init__(self, nama, no_hp):\n",
        "    self.__nama = nama\n",
        "    self.__no_hp = no_hp\n",
        "\n",
        "  def transaksiTokped(self, akun_Gopay, jumlah):\n",
        "    if jumlah > 0:\n",
        "      akun_Gopay.bayarTransaksi(jumlah)\n",
        "    else:\n",
        "      print(\"Jumlah Transaksi Harus Lebih dari 0\")\n",
        "  def getsaldo(self, akun_gopay):\n",
        "    return akun_gopay.getsaldo()"
      ]
    },
    {
      "cell_type": "code",
      "source": [
        "#Main Program\n",
        "akun_gopay = AkunGopay(\"085608569828\", \"vinda\")\n",
        "print(\"Saldo Awal:\", akun_gopay.getsaldo())\n",
        "\n",
        "akun_gopay.topUp(600000)\n",
        "print(\"Saldo setelah top-up:\", akun_gopay.getsaldo())\n",
        "\n",
        "akun_toped = AkunTokped(\"delima\", \"085855541424\")\n",
        "akun_toped.transaksiTokped(akun_gopay, 70000)\n",
        "print(\"Saldo setelah transaksi:\", akun_gopay.getsaldo())"
      ],
      "metadata": {
        "id": "eitzekkYkycQ",
        "colab": {
          "base_uri": "https://localhost:8080/"
        },
        "outputId": "a58c4b83-d466-49bb-cf54-fe120ea467e7"
      },
      "execution_count": 3,
      "outputs": [
        {
          "output_type": "stream",
          "name": "stdout",
          "text": [
            "Saldo Awal: 0\n",
            "Saldo setelah top-up: 600000\n",
            "Saldo setelah transaksi: 530000\n"
          ]
        }
      ]
    }
  ]
}