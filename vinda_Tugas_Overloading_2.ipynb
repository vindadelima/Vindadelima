{
  "nbformat": 4,
  "nbformat_minor": 0,
  "metadata": {
    "colab": {
      "provenance": [],
      "include_colab_link": true
    },
    "kernelspec": {
      "name": "python3",
      "display_name": "Python 3"
    },
    "language_info": {
      "name": "python"
    }
  },
  "cells": [
    {
      "cell_type": "markdown",
      "metadata": {
        "id": "view-in-github",
        "colab_type": "text"
      },
      "source": [
        "<a href=\"https://colab.research.google.com/github/vindadelima/Vindadelima/blob/main/vinda_Tugas_Overloading_2.ipynb\" target=\"_parent\"><img src=\"https://colab.research.google.com/assets/colab-badge.svg\" alt=\"Open In Colab\"/></a>"
      ]
    },
    {
      "cell_type": "code",
      "execution_count": 1,
      "metadata": {
        "id": "5zCytCeM1uD4"
      },
      "outputs": [],
      "source": [
        "#class Nama\n",
        "class nama:\n",
        "#Buat fungsi yang digunakan untuk mengabungkan nama dengan ketentuan nama depan, nama tengah, nama akhir, dan seterusnya dianggap 1 (satu) parameter\n",
        "  def nama_lengkap(self, *args):\n",
        "        jumlah = \"\"\n",
        "        for angka in args:\n",
        "            jumlah += angka\n",
        "        print(jumlah)"
      ]
    },
    {
      "cell_type": "code",
      "source": [
        "#Buat main program\n",
        "nm = nama ()\n",
        "#Panggil fungsi untuk membuat nama lengkap 4 nama teman kalian\n",
        "nm.nama_lengkap(\"Sella\", \" \",  \"Mutomimah\")\n",
        "nm.nama_lengkap(\"Nur\", \" \", \"Khasanah\")\n",
        "nm.nama_lengkap(\"Vinda\", \" \", \"Delima\", \" \", \"Herawati\")"
      ],
      "metadata": {
        "id": "liQBcJWZ12MN",
        "colab": {
          "base_uri": "https://localhost:8080/"
        },
        "outputId": "0d869fc2-a1cb-44c0-b341-a3c98f3fcf5d"
      },
      "execution_count": 2,
      "outputs": [
        {
          "output_type": "stream",
          "name": "stdout",
          "text": [
            "Sella Mutomimah\n",
            "Nur Khasanah\n",
            "Vinda Delima Herawati\n"
          ]
        }
      ]
    },
    {
      "cell_type": "code",
      "source": [
        "Tulisakan kesimpulan dari materi Overloading menurut pemahaman anda!"
      ],
      "metadata": {
        "id": "xwFmppIG3JGE"
      },
      "execution_count": null,
      "outputs": []
    }
  ]
}